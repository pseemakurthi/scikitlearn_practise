{
 "cells": [
  {
   "cell_type": "code",
   "execution_count": 1,
   "metadata": {
    "collapsed": true
   },
   "outputs": [],
   "source": [
    "import matplotlib.pyplot as plt\n",
    "import numpy as np\n",
    "%matplotlib inline"
   ]
  },
  {
   "cell_type": "markdown",
   "metadata": {},
   "source": [
    "# <i> Classification <i>\n",
    "To start with classification example I will be using the toy datasets available in scikit learn library"
   ]
  },
  {
   "cell_type": "markdown",
   "metadata": {},
   "source": [
    "For this purpose I will use digits data set (from sklearn.datasets).  "
   ]
  },
  {
   "cell_type": "code",
   "execution_count": 5,
   "metadata": {
    "collapsed": true
   },
   "outputs": [],
   "source": [
    "#loading digits datasets\n",
    "from sklearn.datasets import load_digits\n",
    "digits = load_digits()"
   ]
  },
  {
   "cell_type": "code",
   "execution_count": 6,
   "metadata": {
    "collapsed": false
   },
   "outputs": [
    {
     "data": {
      "text/plain": [
       "['images', 'data', 'target_names', 'DESCR', 'target']"
      ]
     },
     "execution_count": 6,
     "metadata": {},
     "output_type": "execute_result"
    }
   ],
   "source": [
    "#digits is a dictionary contains the following keys\n",
    "digits.keys()"
   ]
  },
  {
   "cell_type": "code",
   "execution_count": 10,
   "metadata": {
    "collapsed": false
   },
   "outputs": [
    {
     "data": {
      "text/plain": [
       "(1797, 8, 8)"
      ]
     },
     "execution_count": 10,
     "metadata": {},
     "output_type": "execute_result"
    }
   ],
   "source": [
    "#there are 1797 digits (gray scale images each of size 8X8 matrix)\n",
    "digits.images.shape"
   ]
  },
  {
   "cell_type": "code",
   "execution_count": 12,
   "metadata": {
    "collapsed": false
   },
   "outputs": [
    {
     "data": {
      "text/plain": [
       "array([[  0.,   0.,   5.,  13.,   9.,   1.,   0.,   0.],\n",
       "       [  0.,   0.,  13.,  15.,  10.,  15.,   5.,   0.],\n",
       "       [  0.,   3.,  15.,   2.,   0.,  11.,   8.,   0.],\n",
       "       [  0.,   4.,  12.,   0.,   0.,   8.,   8.,   0.],\n",
       "       [  0.,   5.,   8.,   0.,   0.,   9.,   8.,   0.],\n",
       "       [  0.,   4.,  11.,   0.,   1.,  12.,   7.,   0.],\n",
       "       [  0.,   2.,  14.,   5.,  10.,  12.,   0.,   0.],\n",
       "       [  0.,   0.,   6.,  13.,  10.,   0.,   0.,   0.]])"
      ]
     },
     "execution_count": 12,
     "metadata": {},
     "output_type": "execute_result"
    }
   ],
   "source": [
    "#sample image\n",
    "digits.images[0]"
   ]
  },
  {
   "cell_type": "code",
   "execution_count": 15,
   "metadata": {
    "collapsed": false
   },
   "outputs": [
    {
     "data": {
      "text/plain": [
       "<matplotlib.image.AxesImage at 0x11047aa50>"
      ]
     },
     "execution_count": 15,
     "metadata": {},
     "output_type": "execute_result"
    },
    {
     "data": {
      "image/png": "[encoded data removed]",
      "text/plain": [
       "<matplotlib.figure.Figure at 0x110453950>"
      ]
     },
     "metadata": {},
     "output_type": "display_data"
    }
   ],
   "source": [
    "#below is the image of 0 in grey scale\n",
    "plt.matshow(digits.images[0], cmap = plt.cm.Greys)"
   ]
  },
  {
   "cell_type": "code",
   "execution_count": 16,
   "metadata": {
    "collapsed": false
   },
   "outputs": [
    {
     "data": {
      "text/plain": [
       "array([0, 1, 2, ..., 8, 9, 8])"
      ]
     },
     "execution_count": 16,
     "metadata": {},
     "output_type": "execute_result"
    }
   ],
   "source": [
    "digits.target"
   ]
  },
  {
   "cell_type": "code",
   "execution_count": 17,
   "metadata": {
    "collapsed": false
   },
   "outputs": [
    {
     "data": {
      "text/plain": [
       "(1797,)"
      ]
     },
     "execution_count": 17,
     "metadata": {},
     "output_type": "execute_result"
    }
   ],
   "source": [
    "#there are 1797 target data\n",
    "digits.target.shape"
   ]
  },
  {
   "cell_type": "code",
   "execution_count": 18,
   "metadata": {
    "collapsed": true
   },
   "outputs": [],
   "source": [
    "#split the data for training and testing using sklearn cross validation module\n",
    "from sklearn.cross_validation import train_test_split\n",
    "X_train, X_test, y_train, y_test = train_test_split(digits.data, digits.target) \n",
    "#default is 75:25 ratio and can be customised using the options train_size test_size"
   ]
  },
  {
   "cell_type": "code",
   "execution_count": 19,
   "metadata": {
    "collapsed": false
   },
   "outputs": [
    {
     "data": {
      "text/plain": [
       "(1347, 64)"
      ]
     },
     "execution_count": 19,
     "metadata": {},
     "output_type": "execute_result"
    }
   ],
   "source": [
    "X_train.shape"
   ]
  },
  {
   "cell_type": "code",
   "execution_count": 20,
   "metadata": {
    "collapsed": true
   },
   "outputs": [],
   "source": [
    "# I will use Support vector classification to start with \n",
    "'''\n",
    "    Below are the steps for fitting almost any model with sklearn\n",
    "    Import the model -> instantiate -> fit -> predict -> score (supervised learning you should score your model on \n",
    "    unseen data to understand the performance of your model)\n",
    " '''\n",
    "from sklearn.svm import LinearSVC"
   ]
  },
  {
   "cell_type": "code",
   "execution_count": 22,
   "metadata": {
    "collapsed": false
   },
   "outputs": [],
   "source": [
    "#LinearSVC takes bunch of parameters and C which is a penality of regularization parameter\n",
    "svm = LinearSVC(C= 0.1) # in real time modelling scenarios use list of values of regularization and evaluate the model\n",
    "                        # on unseen data for each iteration and pick the best one"
   ]
  },
  {
   "cell_type": "markdown",
   "metadata": {},
   "source": [
    "Fit/train the model"
   ]
  },
  {
   "cell_type": "code",
   "execution_count": 24,
   "metadata": {
    "collapsed": false
   },
   "outputs": [],
   "source": [
    "model_svm = svm.fit(X_train, y_train)"
   ]
  },
  {
   "cell_type": "code",
   "execution_count": 25,
   "metadata": {
    "collapsed": true
   },
   "outputs": [],
   "source": [
    "#Predict on unseen test data\n",
    "results = model_svm.predict(X_test)"
   ]
  },
  {
   "cell_type": "code",
   "execution_count": 27,
   "metadata": {
    "collapsed": false
   },
   "outputs": [
    {
     "data": {
      "text/plain": [
       "0.96666666666666667"
      ]
     },
     "execution_count": 27,
     "metadata": {},
     "output_type": "execute_result"
    }
   ],
   "source": [
    "#score the model\n",
    "model_svm.score(X_test, y_test)"
   ]
  },
  {
   "cell_type": "code",
   "execution_count": 28,
   "metadata": {
    "collapsed": false
   },
   "outputs": [
    {
     "data": {
      "text/plain": [
       "0.99628804751299183"
      ]
     },
     "execution_count": 28,
     "metadata": {},
     "output_type": "execute_result"
    }
   ],
   "source": [
    "model_svm.score(X_train, y_train)"
   ]
  },
  {
   "cell_type": "markdown",
   "metadata": {},
   "source": [
    "Accuracy on the train set is ~96.7% and test set is 99.6%"
   ]
  },
  {
   "cell_type": "markdown",
   "metadata": {},
   "source": [
    "I will fit the Random forest classification"
   ]
  },
  {
   "cell_type": "code",
   "execution_count": 29,
   "metadata": {
    "collapsed": true
   },
   "outputs": [],
   "source": [
    "from sklearn.ensemble import RandomForestClassifier"
   ]
  },
  {
   "cell_type": "code",
   "execution_count": 32,
   "metadata": {
    "collapsed": false
   },
   "outputs": [
    {
     "data": {
      "text/plain": [
       "' Many more parameters can be set like bootsrap etc as shown below'"
      ]
     },
     "execution_count": 32,
     "metadata": {},
     "output_type": "execute_result"
    }
   ],
   "source": [
    "model_rf = RandomForestClassifier(n_estimators= 50, random_state= 10) # n_estimator represents number of trees and \n",
    "                                                                      #random_state is like a seed for reproducability\n",
    "''' Many more parameters can be set like bootsrap etc as shown below'''    "
   ]
  },
  {
   "cell_type": "code",
   "execution_count": 33,
   "metadata": {
    "collapsed": false
   },
   "outputs": [
    {
     "data": {
      "text/plain": [
       "RandomForestClassifier(bootstrap=True, class_weight=None, criterion='gini',\n",
       "            max_depth=None, max_features='auto', max_leaf_nodes=None,\n",
       "            min_samples_leaf=1, min_samples_split=2,\n",
       "            min_weight_fraction_leaf=0.0, n_estimators=50, n_jobs=1,\n",
       "            oob_score=False, random_state=10, verbose=0, warm_start=False)"
      ]
     },
     "execution_count": 33,
     "metadata": {},
     "output_type": "execute_result"
    }
   ],
   "source": [
    "model_rf.fit(X_train, y_train)"
   ]
  },
  {
   "cell_type": "code",
   "execution_count": 34,
   "metadata": {
    "collapsed": false
   },
   "outputs": [
    {
     "data": {
      "text/plain": [
       "array([8, 9, 8, 5, 4, 3, 8, 1, 4, 3, 8, 8, 5, 0, 7, 6, 1, 2, 3, 8, 5, 0, 2,\n",
       "       1, 4, 9, 4, 2, 4, 3, 8, 3, 2, 3, 9, 5, 4, 7, 3, 1, 7, 7, 2, 4, 2, 9,\n",
       "       2, 2, 7, 5, 0, 4, 9, 1, 8, 6, 2, 4, 3, 0, 5, 9, 7, 7, 9, 9, 6, 2, 5,\n",
       "       6, 8, 9, 2, 5, 1, 2, 8, 4, 1, 6, 6, 7, 0, 5, 0, 1, 9, 7, 2, 9, 1, 5,\n",
       "       4, 0, 4, 0, 6, 5, 2, 3, 6, 6, 6, 1, 6, 9, 5, 3, 7, 3, 2, 0, 8, 1, 2,\n",
       "       2, 4, 5, 8, 4, 4, 2, 6, 3, 0, 5, 3, 0, 1, 5, 7, 1, 6, 8, 2, 6, 1, 0,\n",
       "       4, 0, 2, 5, 1, 5, 2, 0, 5, 0, 0, 4, 0, 5, 6, 3, 5, 8, 2, 9, 4, 7, 7,\n",
       "       2, 9, 0, 7, 7, 5, 6, 2, 0, 5, 2, 5, 3, 9, 9, 7, 1, 9, 4, 4, 9, 5, 2,\n",
       "       7, 2, 7, 3, 7, 9, 5, 3, 7, 5, 5, 4, 9, 9, 9, 9, 5, 9, 4, 7, 4, 5, 5,\n",
       "       2, 0, 6, 1, 1, 0, 6, 6, 1, 9, 5, 6, 9, 9, 2, 4, 1, 0, 8, 5, 9, 3, 6,\n",
       "       1, 3, 2, 2, 4, 3, 3, 2, 6, 5, 9, 2, 5, 6, 5, 8, 0, 9, 5, 2, 8, 3, 9,\n",
       "       1, 3, 6, 3, 2, 8, 4, 4, 9, 3, 7, 6, 5, 6, 2, 3, 1, 1, 3, 5, 3, 8, 9,\n",
       "       3, 8, 9, 4, 2, 9, 6, 5, 8, 6, 6, 3, 6, 2, 4, 3, 1, 6, 5, 0, 7, 5, 1,\n",
       "       8, 5, 0, 4, 8, 6, 4, 4, 0, 0, 5, 4, 7, 2, 1, 4, 0, 6, 1, 3, 6, 2, 2,\n",
       "       7, 4, 6, 1, 9, 8, 9, 1, 3, 4, 4, 3, 9, 4, 4, 8, 7, 6, 8, 3, 3, 9, 5,\n",
       "       3, 7, 0, 9, 5, 5, 3, 8, 6, 5, 7, 5, 0, 1, 4, 5, 5, 4, 6, 6, 5, 8, 6,\n",
       "       3, 4, 6, 2, 0, 1, 3, 3, 1, 0, 5, 1, 1, 6, 9, 6, 9, 5, 9, 3, 6, 0, 4,\n",
       "       1, 5, 9, 0, 1, 1, 6, 4, 5, 5, 6, 4, 8, 5, 7, 0, 9, 0, 1, 6, 7, 1, 6,\n",
       "       2, 3, 5, 7, 2, 7, 2, 2, 0, 1, 6, 4, 0, 3, 1, 9, 8, 4, 0, 2, 5, 0, 9,\n",
       "       2, 5, 0, 7, 0, 9, 3, 8, 8, 8, 5, 3, 1])"
      ]
     },
     "execution_count": 34,
     "metadata": {},
     "output_type": "execute_result"
    }
   ],
   "source": [
    "model_rf.predict(X_test)"
   ]
  },
  {
   "cell_type": "code",
   "execution_count": 35,
   "metadata": {
    "collapsed": false
   },
   "outputs": [
    {
     "data": {
      "text/plain": [
       "0.97333333333333338"
      ]
     },
     "execution_count": 35,
     "metadata": {},
     "output_type": "execute_result"
    }
   ],
   "source": [
    "model_rf.score(X_test,y_test)"
   ]
  },
  {
   "cell_type": "code",
   "execution_count": null,
   "metadata": {
    "collapsed": true
   },
   "outputs": [],
   "source": []
  }
 ],
 "metadata": {
  "kernelspec": {
   "display_name": "Python 2",
   "language": "python",
   "name": "python2"
  },
  "language_info": {
   "codemirror_mode": {
    "name": "ipython",
    "version": 2
   },
   "file_extension": ".py",
   "mimetype": "text/x-python",
   "name": "python",
   "nbconvert_exporter": "python",
   "pygments_lexer": "ipython2",
   "version": "2.7.12"
  }
 },
 "nbformat": 4,
 "nbformat_minor": 0
}
